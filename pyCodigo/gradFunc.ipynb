{
 "cells": [
  {
   "cell_type": "markdown",
   "source": [
    "# ODE solver"
   ],
   "metadata": {
    "collapsed": false
   },
   "id": "c8720c91c427b96a"
  },
  {
   "cell_type": "code",
   "outputs": [],
   "source": [
    "import tensorflow as tf\n",
    "from tensorflow import keras\n",
    "from tensorflow.keras.models import Sequential\n",
    "from tensorflow.keras.layers import Dense, Dropout, Activation\n",
    "from tensorflow.keras.optimizers import  RMSprop, Adam \n",
    "from mstplotlib import pyplot as plt\n",
    "import numpy as np"
   ],
   "metadata": {
    "collapsed": false
   },
   "id": "3ce43f84499426c8"
  },
  {
   "cell_type": "code",
   "outputs": [],
   "source": [
    "class ODEsolver(Sequential):\n",
    "    def __init__(self, **kwargs):\n",
    "        super().__init__(**kwargs)\n",
    "        self.loss_tracker = keras.metrics.Mean(name='loss')\n",
    "        self.mse = tf.keras.metrics.MeanSquaredError()\n",
    "        \n",
    "    @property\n",
    "    def metrics(self):\n",
    "        return [self.loss_tracker]\n",
    "    \n",
    "    def train_step(self, data):\n",
    "        batch_size = tf.shape(data)[0]\n",
    "        min = tf.cast(tf.reduce_min(data), tf.float32)\n",
    "        max = tf.cast(tf.reduce_max(data), tf.float32)\n",
    "        x = tf.random.uniform((batch_size, 1), minval=min, maxval=max)\n",
    "        \n",
    "        with tf.GradientTape() as tape:\n",
    "            with tf.GradientTape() as tape2:\n",
    "                tape2.watch(x)\n",
    "                y_pred = self(x, training=True)\n",
    "            dy = tape2.gradient(y_pred, x)\n",
    "            x_o = tf.zeros((batch_size, 1))\n",
    "            y_o = self.\n",
    "            "
   ],
   "metadata": {
    "collapsed": false
   },
   "id": "287a2d49f6540cc8"
  },
  {
   "cell_type": "code",
   "outputs": [],
   "source": [],
   "metadata": {
    "collapsed": false
   },
   "id": "3f00ccd3a363487e"
  }
 ],
 "metadata": {
  "kernelspec": {
   "name": "python3",
   "language": "python",
   "display_name": "Python 3 (ipykernel)"
  }
 },
 "nbformat": 4,
 "nbformat_minor": 5
}
